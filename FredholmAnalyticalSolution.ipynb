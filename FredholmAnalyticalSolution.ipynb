{
 "cells": [
  {
   "cell_type": "markdown",
   "metadata": {},
   "source": [
    "# Analytical Solution of Fredholm Equation\n",
    "This notebook is the symbolid code I used in my thesis at Univesity of New Brunswick, mainly third chapter, to show that Fourier transform and POD(PCA) are not equivalent in a homogeneous direction.\n",
    "\n",
    "The `sympy` version is 1.3.\n",
    "\n",
    "Total run time is about 30-45 minutes."
   ]
  },
  {
   "cell_type": "code",
   "execution_count": 1,
   "metadata": {},
   "outputs": [],
   "source": [
    "from sympy import symbols,sin,cos,integrate,expand,Matrix,simplify,pi,collect,I,init_printing\n",
    "from IPython.display import display\n",
    "init_printing()"
   ]
  },
  {
   "cell_type": "code",
   "execution_count": 2,
   "metadata": {},
   "outputs": [],
   "source": [
    "def kernel(U):\n",
    "    # forms the kernel from a base function\n",
    "    V=U.subs(x,y)\n",
    "    UV=expand(U*V.conjugate(),trig=True)\n",
    "    K=simplify(integrate(UV,(t,0,2*pi),conds='none')/pi)\n",
    "    return expand(K,trig=True)\n",
    "def Vjs(K,Ui):\n",
    "    # Factors the degenerate terms of Ui from the kernel\n",
    "    Vj=Ui.copy()\n",
    "    for i in range(Ui.shape[0]):\n",
    "        Vj[i,0]=collect(K,Ui[i,0]).coeff(Ui[i,0])\n",
    "    return Vj\n",
    "def fredholmint(K,Ui):\n",
    "    # Fredholm integral solution\n",
    "    Vj=Vjs(K,Ui)\n",
    "    if simplify((Ui.T*Vj)[0]-K):\n",
    "        raise ValueError('Kernel is not degenerate')\n",
    "    aij=simplify(integrate(Ui*Vj.conjugate().subs(y,x).T,(x,0,2*pi),conds='none')/pi)\n",
    "    return aij,aij.eigenvects(simplify=True)\n",
    "def eig_calc(cjs,ui):\n",
    "    # Recovering eigenvalues\n",
    "    ef = []\n",
    "    ev = []\n",
    "    for cj in cjs:\n",
    "        if cj[0]==0: continue\n",
    "        for i in range(cj[1]):\n",
    "            ev.append(cj[0])\n",
    "            ef.append(cj[2][i].T*ui)\n",
    "#         eigs.append([cj[0],cj[2][0].T*ui])\n",
    "    return Matrix(ev),Matrix(ef)\n",
    "def eig_display(ev,ef):\n",
    "    print('Eigenvalues = ',end=' ')\n",
    "    display(evs)\n",
    "    print('Eigenfunctions = ',end=' ')\n",
    "    display(efs)\n",
    "def fullrun(u,sublist=None):\n",
    "    print('Function:')\n",
    "    if sublist is not None:\n",
    "        display(u.subs(sublist))\n",
    "    else:\n",
    "        display(u)\n",
    "    k = kernel(u)\n",
    "    aij, cjs = fredholmint(k,ui)\n",
    "    evs, efs = eig_calc(cjs,ui)\n",
    "    if sublist is not None:\n",
    "        efs = efs.subs(sublist)\n",
    "    print('Eigenvalues: ',end=' ')\n",
    "    display(evs)\n",
    "    print('Eigenfunctions: ',end=' ')\n",
    "    display(efs)"
   ]
  },
  {
   "cell_type": "code",
   "execution_count": 3,
   "metadata": {},
   "outputs": [],
   "source": [
    "c,d,e,x,y,t = symbols('c d e x y t',real=True)\n",
    "a,b,f,g,m,n,o,p = symbols('a b f g m n o p',integer=True,real=True)\n",
    "ui = Matrix([sin(a*x), sin(b*x), sin(f*x), sin(g*x), cos(a*x), cos(b*x), cos(f*x), cos(g*x)])\n",
    "# Averaging in time\n",
    "u1 = sin(a*x+m*t)\n",
    "u2 = sin(a*x+m*t)+d*cos(a*x-m*t)\n",
    "u3 = sin(a*x+m*t)+d*cos(a*x-m*t)+sin(b*x+m*t)+e*cos(b*x-m*t)\n",
    "u4 = sin(a*x+m*t)+d*cos(a*x-m*t)+sin(b*x+n*t)+e*cos(b*x-n*t)\n",
    "# Positive and negative frequencies of Fourier transform of u3 in time\n",
    "Sp = +c*cos(a*x)+d*cos(b*x)+cos(a*x)+cos(b*x)-I*(c*sin(a*x)+d*sin(b*x)-sin(a*x)-sin(b*x))\n",
    "Sn=-c*cos(a*x)-d*cos(b*x)-cos(a*x)+cos(b*x)+I*(c*sin(a*x)+d*sin(b*x)-sin(a*x)+sin(b*x))\n",
    "# Numerical test function\n",
    "u5 = sin(a*x+m*t)+2*cos(a*x-m*t)+sin(b*x+n*t)+4*cos(b*x-n*t)+2.5*sin(f*x+o*t)+3.5*cos(f*x-o*t)+2*sin(g*x+p*t)+2*cos(g*x-p*t)\n",
    "sublist = [(a,3), (b,5), (f,7), (g,11), (m,1), (n,2), (o,3), (p,6)]"
   ]
  },
  {
   "cell_type": "markdown",
   "metadata": {},
   "source": [
    "# Analytical Test Functions"
   ]
  },
  {
   "cell_type": "code",
   "execution_count": 4,
   "metadata": {},
   "outputs": [
    {
     "name": "stdout",
     "output_type": "stream",
     "text": [
      "Function:\n"
     ]
    },
    {
     "data": {
      "image/png": "[encoded data removed]",
      "text/latex": [
       "$$\\sin{\\left (a x + m t \\right )}$$"
      ],
      "text/plain": [
       "sin(a⋅x + m⋅t)"
      ]
     },
     "metadata": {},
     "output_type": "display_data"
    },
    {
     "name": "stdout",
     "output_type": "stream",
     "text": [
      "Eigenvalues:  "
     ]
    },
    {
     "data": {
      "image/png": "[encoded data removed]",
      "text/latex": [
       "$$\\left[\\begin{matrix}1\\\\1\\end{matrix}\\right]$$"
      ],
      "text/plain": [
       "⎡1⎤\n",
       "⎢ ⎥\n",
       "⎣1⎦"
      ]
     },
     "metadata": {},
     "output_type": "display_data"
    },
    {
     "name": "stdout",
     "output_type": "stream",
     "text": [
      "Eigenfunctions:  "
     ]
    },
    {
     "data": {
      "image/png": "[encoded data removed]",
      "text/latex": [
       "$$\\left[\\begin{matrix}\\sin{\\left (a x \\right )}\\\\\\cos{\\left (a x \\right )}\\end{matrix}\\right]$$"
      ],
      "text/plain": [
       "⎡sin(a⋅x)⎤\n",
       "⎢        ⎥\n",
       "⎣cos(a⋅x)⎦"
      ]
     },
     "metadata": {},
     "output_type": "display_data"
    }
   ],
   "source": [
    "fullrun(u1)"
   ]
  },
  {
   "cell_type": "code",
   "execution_count": 5,
   "metadata": {},
   "outputs": [
    {
     "name": "stdout",
     "output_type": "stream",
     "text": [
      "Function:\n"
     ]
    },
    {
     "data": {
      "image/png": "[encoded data removed]",
      "text/latex": [
       "$$d \\cos{\\left (a x - m t \\right )} + \\sin{\\left (a x + m t \\right )}$$"
      ],
      "text/plain": [
       "d⋅cos(a⋅x - m⋅t) + sin(a⋅x + m⋅t)"
      ]
     },
     "metadata": {},
     "output_type": "display_data"
    },
    {
     "name": "stdout",
     "output_type": "stream",
     "text": [
      "Eigenvalues:  "
     ]
    },
    {
     "data": {
      "image/png": "[encoded data removed]",
      "text/latex": [
       "$$\\left[\\begin{matrix}d^{2} - 2 d + 1\\\\d^{2} + 2 d + 1\\end{matrix}\\right]$$"
      ],
      "text/plain": [
       "⎡ 2          ⎤\n",
       "⎢d  - 2⋅d + 1⎥\n",
       "⎢            ⎥\n",
       "⎢ 2          ⎥\n",
       "⎣d  + 2⋅d + 1⎦"
      ]
     },
     "metadata": {},
     "output_type": "display_data"
    },
    {
     "name": "stdout",
     "output_type": "stream",
     "text": [
      "Eigenfunctions:  "
     ]
    },
    {
     "data": {
      "image/png": "[encoded data removed]",
      "text/latex": [
       "$$\\left[\\begin{matrix}- \\sin{\\left (a x \\right )} + \\cos{\\left (a x \\right )}\\\\\\sin{\\left (a x \\right )} + \\cos{\\left (a x \\right )}\\end{matrix}\\right]$$"
      ],
      "text/plain": [
       "⎡-sin(a⋅x) + cos(a⋅x)⎤\n",
       "⎢                    ⎥\n",
       "⎣sin(a⋅x) + cos(a⋅x) ⎦"
      ]
     },
     "metadata": {},
     "output_type": "display_data"
    }
   ],
   "source": [
    "fullrun(u2)"
   ]
  },
  {
   "cell_type": "code",
   "execution_count": 6,
   "metadata": {},
   "outputs": [
    {
     "name": "stdout",
     "output_type": "stream",
     "text": [
      "Function:\n"
     ]
    },
    {
     "data": {
      "image/png": "[encoded data removed]",
      "text/latex": [
       "$$d \\cos{\\left (a x - m t \\right )} + e \\cos{\\left (b x - m t \\right )} + \\sin{\\left (a x + m t \\right )} + \\sin{\\left (b x + m t \\right )}$$"
      ],
      "text/plain": [
       "d⋅cos(a⋅x - m⋅t) + e⋅cos(b⋅x - m⋅t) + sin(a⋅x + m⋅t) + sin(b⋅x + m⋅t)"
      ]
     },
     "metadata": {},
     "output_type": "display_data"
    },
    {
     "name": "stdout",
     "output_type": "stream",
     "text": [
      "Eigenvalues:  "
     ]
    },
    {
     "data": {
      "image/png": "[encoded data removed]",
      "text/latex": [
       "$$\\left[\\begin{matrix}d^{2} - 2 d + e^{2} - 2 e + 2\\\\d^{2} + 2 d + e^{2} + 2 e + 2\\end{matrix}\\right]$$"
      ],
      "text/plain": [
       "⎡ 2          2          ⎤\n",
       "⎢d  - 2⋅d + e  - 2⋅e + 2⎥\n",
       "⎢                       ⎥\n",
       "⎢ 2          2          ⎥\n",
       "⎣d  + 2⋅d + e  + 2⋅e + 2⎦"
      ]
     },
     "metadata": {},
     "output_type": "display_data"
    },
    {
     "name": "stdout",
     "output_type": "stream",
     "text": [
      "Eigenfunctions:  "
     ]
    },
    {
     "data": {
      "image/png": "[encoded data removed]",
      "text/latex": [
       "$$\\left[\\begin{matrix}\\frac{\\left(- d + 1\\right) \\sin{\\left (a x \\right )}}{e - 1} + \\frac{\\left(d - 1\\right) \\cos{\\left (a x \\right )}}{e - 1} - \\sin{\\left (b x \\right )} + \\cos{\\left (b x \\right )}\\\\\\frac{\\left(d + 1\\right) \\sin{\\left (a x \\right )}}{e + 1} + \\frac{\\left(d + 1\\right) \\cos{\\left (a x \\right )}}{e + 1} + \\sin{\\left (b x \\right )} + \\cos{\\left (b x \\right )}\\end{matrix}\\right]$$"
      ],
      "text/plain": [
       "⎡(-d + 1)⋅sin(a⋅x)   (d - 1)⋅cos(a⋅x)                      ⎤\n",
       "⎢───────────────── + ──────────────── - sin(b⋅x) + cos(b⋅x)⎥\n",
       "⎢      e - 1              e - 1                            ⎥\n",
       "⎢                                                          ⎥\n",
       "⎢(d + 1)⋅sin(a⋅x)   (d + 1)⋅cos(a⋅x)                       ⎥\n",
       "⎢──────────────── + ──────────────── + sin(b⋅x) + cos(b⋅x) ⎥\n",
       "⎣     e + 1              e + 1                             ⎦"
      ]
     },
     "metadata": {},
     "output_type": "display_data"
    }
   ],
   "source": [
    "fullrun(u3)"
   ]
  },
  {
   "cell_type": "code",
   "execution_count": 7,
   "metadata": {},
   "outputs": [
    {
     "name": "stdout",
     "output_type": "stream",
     "text": [
      "Function:\n"
     ]
    },
    {
     "data": {
      "image/png": "[encoded data removed]",
      "text/latex": [
       "$$d \\cos{\\left (a x - m t \\right )} + e \\cos{\\left (b x - n t \\right )} + \\sin{\\left (a x + m t \\right )} + \\sin{\\left (b x + n t \\right )}$$"
      ],
      "text/plain": [
       "d⋅cos(a⋅x - m⋅t) + e⋅cos(b⋅x - n⋅t) + sin(a⋅x + m⋅t) + sin(b⋅x + n⋅t)"
      ]
     },
     "metadata": {},
     "output_type": "display_data"
    },
    {
     "name": "stdout",
     "output_type": "stream",
     "text": [
      "Eigenvalues:  "
     ]
    },
    {
     "data": {
      "image/png": "[encoded data removed]",
      "text/latex": [
       "$$\\left[\\begin{matrix}d^{2} - 2 d + 1\\\\d^{2} + 2 d + 1\\\\e^{2} - 2 e + 1\\\\e^{2} + 2 e + 1\\end{matrix}\\right]$$"
      ],
      "text/plain": [
       "⎡ 2          ⎤\n",
       "⎢d  - 2⋅d + 1⎥\n",
       "⎢            ⎥\n",
       "⎢ 2          ⎥\n",
       "⎢d  + 2⋅d + 1⎥\n",
       "⎢            ⎥\n",
       "⎢ 2          ⎥\n",
       "⎢e  - 2⋅e + 1⎥\n",
       "⎢            ⎥\n",
       "⎢ 2          ⎥\n",
       "⎣e  + 2⋅e + 1⎦"
      ]
     },
     "metadata": {},
     "output_type": "display_data"
    },
    {
     "name": "stdout",
     "output_type": "stream",
     "text": [
      "Eigenfunctions:  "
     ]
    },
    {
     "data": {
      "image/png": "[encoded data removed]",
      "text/latex": [
       "$$\\left[\\begin{matrix}- \\sin{\\left (a x \\right )} + \\cos{\\left (a x \\right )}\\\\\\sin{\\left (a x \\right )} + \\cos{\\left (a x \\right )}\\\\- \\sin{\\left (b x \\right )} + \\cos{\\left (b x \\right )}\\\\\\sin{\\left (b x \\right )} + \\cos{\\left (b x \\right )}\\end{matrix}\\right]$$"
      ],
      "text/plain": [
       "⎡-sin(a⋅x) + cos(a⋅x)⎤\n",
       "⎢                    ⎥\n",
       "⎢sin(a⋅x) + cos(a⋅x) ⎥\n",
       "⎢                    ⎥\n",
       "⎢-sin(b⋅x) + cos(b⋅x)⎥\n",
       "⎢                    ⎥\n",
       "⎣sin(b⋅x) + cos(b⋅x) ⎦"
      ]
     },
     "metadata": {},
     "output_type": "display_data"
    }
   ],
   "source": [
    "fullrun(u4)"
   ]
  },
  {
   "cell_type": "markdown",
   "metadata": {},
   "source": [
    "# Positive and Negative Frequencies of u3"
   ]
  },
  {
   "cell_type": "code",
   "execution_count": 8,
   "metadata": {},
   "outputs": [
    {
     "name": "stdout",
     "output_type": "stream",
     "text": [
      "Function:\n"
     ]
    },
    {
     "data": {
      "image/png": "[encoded data removed]",
      "text/latex": [
       "$$c \\cos{\\left (a x \\right )} + d \\cos{\\left (b x \\right )} - i \\left(c \\sin{\\left (a x \\right )} + d \\sin{\\left (b x \\right )} - \\sin{\\left (a x \\right )} - \\sin{\\left (b x \\right )}\\right) + \\cos{\\left (a x \\right )} + \\cos{\\left (b x \\right )}$$"
      ],
      "text/plain": [
       "c⋅cos(a⋅x) + d⋅cos(b⋅x) - ⅈ⋅(c⋅sin(a⋅x) + d⋅sin(b⋅x) - sin(a⋅x) - sin(b⋅x)) + \n",
       "cos(a⋅x) + cos(b⋅x)"
      ]
     },
     "metadata": {},
     "output_type": "display_data"
    },
    {
     "name": "stdout",
     "output_type": "stream",
     "text": [
      "Eigenvalues:  "
     ]
    },
    {
     "data": {
      "image/png": "[encoded data removed]",
      "text/latex": [
       "$$\\left[\\begin{matrix}4 c^{2} + 4 d^{2} + 8\\end{matrix}\\right]$$"
      ],
      "text/plain": [
       "⎡   2      2    ⎤\n",
       "⎣4⋅c  + 4⋅d  + 8⎦"
      ]
     },
     "metadata": {},
     "output_type": "display_data"
    },
    {
     "name": "stdout",
     "output_type": "stream",
     "text": [
      "Eigenfunctions:  "
     ]
    },
    {
     "data": {
      "image/png": "[encoded data removed]",
      "text/latex": [
       "$$\\left[\\begin{matrix}\\frac{i \\left(- c + 1\\right) \\sin{\\left (a x \\right )}}{d + 1} + \\frac{\\left(c + 1\\right) \\cos{\\left (a x \\right )}}{d + 1} + \\frac{i \\left(- d + 1\\right) \\sin{\\left (b x \\right )}}{d + 1} + \\cos{\\left (b x \\right )}\\end{matrix}\\right]$$"
      ],
      "text/plain": [
       "⎡ⅈ⋅(-c + 1)⋅sin(a⋅x)   (c + 1)⋅cos(a⋅x)   ⅈ⋅(-d + 1)⋅sin(b⋅x)           ⎤\n",
       "⎢─────────────────── + ──────────────── + ─────────────────── + cos(b⋅x)⎥\n",
       "⎣       d + 1               d + 1                d + 1                  ⎦"
      ]
     },
     "metadata": {},
     "output_type": "display_data"
    }
   ],
   "source": [
    "fullrun(Sp)"
   ]
  },
  {
   "cell_type": "code",
   "execution_count": 9,
   "metadata": {},
   "outputs": [
    {
     "name": "stdout",
     "output_type": "stream",
     "text": [
      "Function:\n"
     ]
    },
    {
     "data": {
      "image/png": "[encoded data removed]",
      "text/latex": [
       "$$- c \\cos{\\left (a x \\right )} - d \\cos{\\left (b x \\right )} + i \\left(c \\sin{\\left (a x \\right )} + d \\sin{\\left (b x \\right )} - \\sin{\\left (a x \\right )} + \\sin{\\left (b x \\right )}\\right) - \\cos{\\left (a x \\right )} + \\cos{\\left (b x \\right )}$$"
      ],
      "text/plain": [
       "-c⋅cos(a⋅x) - d⋅cos(b⋅x) + ⅈ⋅(c⋅sin(a⋅x) + d⋅sin(b⋅x) - sin(a⋅x) + sin(b⋅x)) -\n",
       " cos(a⋅x) + cos(b⋅x)"
      ]
     },
     "metadata": {},
     "output_type": "display_data"
    },
    {
     "name": "stdout",
     "output_type": "stream",
     "text": [
      "Eigenvalues:  "
     ]
    },
    {
     "data": {
      "image/png": "[encoded data removed]",
      "text/latex": [
       "$$\\left[\\begin{matrix}4 c^{2} + 4 d^{2} + 8\\end{matrix}\\right]$$"
      ],
      "text/plain": [
       "⎡   2      2    ⎤\n",
       "⎣4⋅c  + 4⋅d  + 8⎦"
      ]
     },
     "metadata": {},
     "output_type": "display_data"
    },
    {
     "name": "stdout",
     "output_type": "stream",
     "text": [
      "Eigenfunctions:  "
     ]
    },
    {
     "data": {
      "image/png": "[encoded data removed]",
      "text/latex": [
       "$$\\left[\\begin{matrix}\\frac{i \\left(- c + 1\\right) \\sin{\\left (a x \\right )}}{d - 1} + \\frac{\\left(c + 1\\right) \\cos{\\left (a x \\right )}}{d - 1} + \\cos{\\left (b x \\right )} - \\frac{i \\left(d + 1\\right) \\sin{\\left (b x \\right )}}{d - 1}\\end{matrix}\\right]$$"
      ],
      "text/plain": [
       "⎡ⅈ⋅(-c + 1)⋅sin(a⋅x)   (c + 1)⋅cos(a⋅x)              ⅈ⋅(d + 1)⋅sin(b⋅x)⎤\n",
       "⎢─────────────────── + ──────────────── + cos(b⋅x) - ──────────────────⎥\n",
       "⎣       d - 1               d - 1                          d - 1       ⎦"
      ]
     },
     "metadata": {},
     "output_type": "display_data"
    }
   ],
   "source": [
    "fullrun(Sn)"
   ]
  },
  {
   "cell_type": "markdown",
   "metadata": {},
   "source": [
    "# Numerical Test Function"
   ]
  },
  {
   "cell_type": "code",
   "execution_count": 10,
   "metadata": {},
   "outputs": [
    {
     "name": "stdout",
     "output_type": "stream",
     "text": [
      "Function:\n"
     ]
    },
    {
     "data": {
      "image/png": "[encoded data removed]",
      "text/latex": [
       "$$\\sin{\\left (t + 3 x \\right )} + \\sin{\\left (2 t + 5 x \\right )} + 2.5 \\sin{\\left (3 t + 7 x \\right )} + 2 \\sin{\\left (6 t + 11 x \\right )} + 2 \\cos{\\left (t - 3 x \\right )} + 4 \\cos{\\left (2 t - 5 x \\right )} + 3.5 \\cos{\\left (3 t - 7 x \\right )} + 2 \\cos{\\left (6 t - 11 x \\right )}$$"
      ],
      "text/plain": [
       "sin(t + 3⋅x) + sin(2⋅t + 5⋅x) + 2.5⋅sin(3⋅t + 7⋅x) + 2⋅sin(6⋅t + 11⋅x) + 2⋅cos\n",
       "(t - 3⋅x) + 4⋅cos(2⋅t - 5⋅x) + 3.5⋅cos(3⋅t - 7⋅x) + 2⋅cos(6⋅t - 11⋅x)"
      ]
     },
     "metadata": {},
     "output_type": "display_data"
    },
    {
     "name": "stdout",
     "output_type": "stream",
     "text": [
      "Eigenvalues:  "
     ]
    },
    {
     "data": {
      "image/png": "[encoded data removed]",
      "text/latex": [
       "$$\\left[\\begin{matrix}1.0\\\\1.0\\\\9.0\\\\9.0\\\\16.0\\\\25.0\\\\36.0\\end{matrix}\\right]$$"
      ],
      "text/plain": [
       "⎡1.0 ⎤\n",
       "⎢    ⎥\n",
       "⎢1.0 ⎥\n",
       "⎢    ⎥\n",
       "⎢9.0 ⎥\n",
       "⎢    ⎥\n",
       "⎢9.0 ⎥\n",
       "⎢    ⎥\n",
       "⎢16.0⎥\n",
       "⎢    ⎥\n",
       "⎢25.0⎥\n",
       "⎢    ⎥\n",
       "⎣36.0⎦"
      ]
     },
     "metadata": {},
     "output_type": "display_data"
    },
    {
     "name": "stdout",
     "output_type": "stream",
     "text": [
      "Eigenfunctions:  "
     ]
    },
    {
     "data": {
      "image/png": "[encoded data removed]",
      "text/latex": [
       "$$\\left[\\begin{matrix}- 1.0 \\sin{\\left (3 x \\right )} + 1.0 \\cos{\\left (3 x \\right )}\\\\- 1.0 \\sin{\\left (7 x \\right )} + 1.0 \\cos{\\left (7 x \\right )}\\\\1.0 \\sin{\\left (3 x \\right )} + 1.0 \\cos{\\left (3 x \\right )}\\\\- 1.0 \\sin{\\left (5 x \\right )} + 1.0 \\cos{\\left (5 x \\right )}\\\\1.0 \\sin{\\left (11 x \\right )} + 1.0 \\cos{\\left (11 x \\right )}\\\\1.0 \\sin{\\left (5 x \\right )} + 1.0 \\cos{\\left (5 x \\right )}\\\\1.0 \\sin{\\left (7 x \\right )} + 1.0 \\cos{\\left (7 x \\right )}\\end{matrix}\\right]$$"
      ],
      "text/plain": [
       "⎡-1.0⋅sin(3⋅x) + 1.0⋅cos(3⋅x) ⎤\n",
       "⎢                             ⎥\n",
       "⎢-1.0⋅sin(7⋅x) + 1.0⋅cos(7⋅x) ⎥\n",
       "⎢                             ⎥\n",
       "⎢ 1.0⋅sin(3⋅x) + 1.0⋅cos(3⋅x) ⎥\n",
       "⎢                             ⎥\n",
       "⎢-1.0⋅sin(5⋅x) + 1.0⋅cos(5⋅x) ⎥\n",
       "⎢                             ⎥\n",
       "⎢1.0⋅sin(11⋅x) + 1.0⋅cos(11⋅x)⎥\n",
       "⎢                             ⎥\n",
       "⎢ 1.0⋅sin(5⋅x) + 1.0⋅cos(5⋅x) ⎥\n",
       "⎢                             ⎥\n",
       "⎣ 1.0⋅sin(7⋅x) + 1.0⋅cos(7⋅x) ⎦"
      ]
     },
     "metadata": {},
     "output_type": "display_data"
    }
   ],
   "source": [
    "fullrun(u5,sublist)"
   ]
  }
 ],
 "metadata": {
  "kernelspec": {
   "display_name": "Python 3",
   "language": "python",
   "name": "python3"
  },
  "language_info": {
   "codemirror_mode": {
    "name": "ipython",
    "version": 3
   },
   "file_extension": ".py",
   "mimetype": "text/x-python",
   "name": "python",
   "nbconvert_exporter": "python",
   "pygments_lexer": "ipython3",
   "version": "3.7.1"
  }
 },
 "nbformat": 4,
 "nbformat_minor": 2
}
